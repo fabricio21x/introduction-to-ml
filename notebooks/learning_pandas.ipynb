{
  "nbformat": 4,
  "nbformat_minor": 0,
  "metadata": {
    "colab": {
      "name": "learning_pandas.ipynb",
      "provenance": [],
      "collapsed_sections": []
    },
    "kernelspec": {
      "name": "python3",
      "display_name": "Python 3"
    }
  },
  "cells": [
    {
      "cell_type": "code",
      "metadata": {
        "id": "cNy8fWIr2WBF"
      },
      "source": [
        "import pandas as pd\n",
        "import numpy as np"
      ],
      "execution_count": null,
      "outputs": []
    },
    {
      "cell_type": "markdown",
      "metadata": {
        "id": "95CRcXvo2-yP"
      },
      "source": [
        "# Getting the data"
      ]
    },
    {
      "cell_type": "code",
      "metadata": {
        "id": "E-OsB9sy2zRW"
      },
      "source": [
        "df = pd.read_csv(\"https://raw.githubusercontent.com/fabricio21x/introduction-to-ml/main/datasets/pokemon_with_stats.csv\")"
      ],
      "execution_count": null,
      "outputs": []
    },
    {
      "cell_type": "markdown",
      "metadata": {
        "id": "A-1nnpmc3EiK"
      },
      "source": [
        "# Performing Exploratory Data Analysis (EDA)"
      ]
    },
    {
      "cell_type": "code",
      "metadata": {
        "id": "POnjNbJ929iC"
      },
      "source": [
        "#get the first 4 rows of the table\n",
        "df.head(4)"
      ],
      "execution_count": null,
      "outputs": []
    },
    {
      "cell_type": "code",
      "metadata": {
        "id": "oDPQSdkO3Dh8"
      },
      "source": [
        "# sample return n rows picked randomly\n",
        "df.sample(4)"
      ],
      "execution_count": null,
      "outputs": []
    },
    {
      "cell_type": "code",
      "metadata": {
        "id": "xbfKY-aV9HYH"
      },
      "source": [
        "# show the shape of the dataframe (rows, columns)\n",
        "df.shape"
      ],
      "execution_count": null,
      "outputs": []
    },
    {
      "cell_type": "code",
      "metadata": {
        "id": "oiDqARLY3Lpc"
      },
      "source": [
        "df.columns"
      ],
      "execution_count": null,
      "outputs": []
    },
    {
      "cell_type": "code",
      "metadata": {
        "id": "xz7wpLVb3uc1"
      },
      "source": [
        "# we can rename the columns\n",
        "df.rename(columns = {\n",
        "    '#': \"number\",\n",
        "    'Name': \"name\", \n",
        "    'Type 1': \"type_1\", \n",
        "    'Type 2': \"type_2\", \n",
        "    'Total': \"total\", \n",
        "    'HP': \"hp\", \n",
        "    'Attack': \"attack\", \n",
        "    'Defense': \"defense\",\n",
        "    'Sp. Atk': \"sp_atk\", \n",
        "    'Sp. Def': \"sp_def\", \n",
        "    'Speed': \"speed\", \n",
        "    'Generation': \"generation\", \n",
        "    'Legendary': \"legendary\"\n",
        "}, inplace=True)"
      ],
      "execution_count": null,
      "outputs": []
    },
    {
      "cell_type": "code",
      "metadata": {
        "id": "hqhS1aQn4J_L"
      },
      "source": [
        "df.columns"
      ],
      "execution_count": null,
      "outputs": []
    },
    {
      "cell_type": "code",
      "metadata": {
        "id": "Mo6qYc8f4WRF"
      },
      "source": [
        "df.dtypes"
      ],
      "execution_count": null,
      "outputs": []
    },
    {
      "cell_type": "code",
      "metadata": {
        "id": "YTxQi6V44Zhx"
      },
      "source": [
        "df[\"attack\"].mean(), df.attack.max(), df[\"attack\"].min()"
      ],
      "execution_count": null,
      "outputs": []
    },
    {
      "cell_type": "code",
      "metadata": {
        "id": "f1C-AJFl4jiR"
      },
      "source": [
        "df[\"attack\"].describe()"
      ],
      "execution_count": null,
      "outputs": []
    },
    {
      "cell_type": "code",
      "metadata": {
        "id": "9NaLJ0YDp91G"
      },
      "source": [
        ""
      ],
      "execution_count": null,
      "outputs": []
    },
    {
      "cell_type": "markdown",
      "metadata": {
        "id": "FMdhNQA150P4"
      },
      "source": [
        "## Cleaning the data"
      ]
    },
    {
      "cell_type": "markdown",
      "metadata": {
        "id": "1nRtB22b53gA"
      },
      "source": [
        "For example the pokemons with \"Mega\" have some unnecesary text at the begining, e.g. CharizardMega Charizard. Let's remove it"
      ]
    },
    {
      "cell_type": "code",
      "metadata": {
        "id": "HjZmLcmD52r3"
      },
      "source": [
        "df.loc[:,\"name\"] = df.loc[:,\"name\"].str.replace(\"^.*(?=Mega)\", \"\")"
      ],
      "execution_count": null,
      "outputs": []
    },
    {
      "cell_type": "code",
      "metadata": {
        "id": "5coP0WGK8n8N"
      },
      "source": [
        "df.head()"
      ],
      "execution_count": null,
      "outputs": []
    },
    {
      "cell_type": "markdown",
      "metadata": {
        "id": "7K4RZRso8yRw"
      },
      "source": [
        "Also, the \"number\" columns is not giving much information, let's remove it"
      ]
    },
    {
      "cell_type": "code",
      "metadata": {
        "id": "uduMhi2z8qht"
      },
      "source": [
        "# del df[\"number\"] => alternative way\n",
        "df.drop([\"number\"], axis=1, inplace=True)"
      ],
      "execution_count": null,
      "outputs": []
    },
    {
      "cell_type": "markdown",
      "metadata": {
        "id": "YEwi5bRA9Pn2"
      },
      "source": [
        "Let's check for null values in our data, it seems that the column \"type_2\" is almost 50% full of nulls"
      ]
    },
    {
      "cell_type": "code",
      "metadata": {
        "id": "NKEStcrL4MjK"
      },
      "source": [
        "df.isna().mean().round(4) * 100"
      ],
      "execution_count": null,
      "outputs": []
    },
    {
      "cell_type": "code",
      "metadata": {
        "id": "M5C3v3ez9ChI"
      },
      "source": [
        "df[\"type_2\"].isnull().sum()"
      ],
      "execution_count": null,
      "outputs": []
    },
    {
      "cell_type": "markdown",
      "metadata": {
        "id": "00I2qxSo9tsj"
      },
      "source": [
        "We can fill the nulls on that column with a value that makes sense. In this case it will make a lot of sense to just duplicate the \"type_1\" if that pokemon doesn't have an aditional type"
      ]
    },
    {
      "cell_type": "code",
      "metadata": {
        "id": "XPBaCtY59phB"
      },
      "source": [
        "df[\"type_2\"].fillna(df[\"type_1\"], inplace=True)"
      ],
      "execution_count": null,
      "outputs": []
    },
    {
      "cell_type": "markdown",
      "metadata": {
        "id": "h5LWpUhW5Mzk"
      },
      "source": [
        "## Filtering and selecting"
      ]
    },
    {
      "cell_type": "code",
      "metadata": {
        "id": "cY4jH6kD5O-x"
      },
      "source": [
        "df[df[\"attack\"]>10].sample(5)"
      ],
      "execution_count": null,
      "outputs": []
    },
    {
      "cell_type": "code",
      "metadata": {
        "id": "Xzt4CO7K5ULv"
      },
      "source": [
        "# this way returns a copy of the dataframe\n",
        "df[(df[\"legendary\"]==True) & (df[\"generation\"]==1)].head(5)"
      ],
      "execution_count": null,
      "outputs": []
    },
    {
      "cell_type": "code",
      "metadata": {
        "id": "aXBEygJ85e5l"
      },
      "source": [
        "# with .loc we can access the columns in-place\n",
        "df.loc[(df[\"legendary\"]==False) & (df[\"generation\"]==1) & ((df[\"type_1\"]==\"Fire\") | (df[\"type_1\"]==\"Dragon\")), [\"name\", \"attack\", \"defense\", \"type_1\", \"type_2\"]].head()"
      ],
      "execution_count": null,
      "outputs": []
    },
    {
      "cell_type": "code",
      "metadata": {
        "id": "qZCjfdPx-Vje"
      },
      "source": [
        "print(df.loc[1]) # retrieves complete row data from index with value 1"
      ],
      "execution_count": null,
      "outputs": []
    },
    {
      "cell_type": "code",
      "metadata": {
        "id": "exfWZoSo-hV2"
      },
      "source": [
        "print(df.iloc[1]) #retrieves complete row date from index 1 ; integer version of loc"
      ],
      "execution_count": null,
      "outputs": []
    },
    {
      "cell_type": "markdown",
      "metadata": {
        "id": "xARFO3CQ-Pkg"
      },
      "source": [
        "- loc works on labels in the index.\n",
        "- iloc works on the positions in the index (so it only takes integers)."
      ]
    },
    {
      "cell_type": "code",
      "metadata": {
        "id": "V5OXPfrj_qBe"
      },
      "source": [
        "print(\"The unique types are:\",df[\"type_1\"].unique())\n",
        "print(\"The number of unique types is\", df[\"type_1\"].nunique())"
      ],
      "execution_count": null,
      "outputs": []
    },
    {
      "cell_type": "markdown",
      "metadata": {
        "id": "CtrbOkmvAZce"
      },
      "source": [
        "Strongest pokemon of each type"
      ]
    },
    {
      "cell_type": "code",
      "metadata": {
        "id": "whuDuJbEAZJK"
      },
      "source": [
        "strongest = df.sort_values(by=[\"total\"], ascending=False) # we sort the pokemons in descending order\n",
        "strongest = strongest.drop_duplicates(subset=[\"type_1\"], keep=\"first\") # since the rows are now sorted we can drop all the other pokemons that aren't the top 1\n",
        "strongest"
      ],
      "execution_count": null,
      "outputs": []
    },
    {
      "cell_type": "markdown",
      "metadata": {
        "id": "uM3GGeXbALw9"
      },
      "source": [
        "# Visualizing the data"
      ]
    },
    {
      "cell_type": "markdown",
      "metadata": {
        "id": "tb8bfK8OBj6j"
      },
      "source": [
        "Pie chart of the distribution of types"
      ]
    },
    {
      "cell_type": "code",
      "metadata": {
        "id": "8b-GptH3BsBX"
      },
      "source": [
        "df[\"type_1\"].value_counts()*100 / df[\"type_1\"].shape[0]"
      ],
      "execution_count": null,
      "outputs": []
    },
    {
      "cell_type": "code",
      "metadata": {
        "id": "dhrKAtHmAKCe"
      },
      "source": [
        ""
      ],
      "execution_count": null,
      "outputs": []
    },
    {
      "cell_type": "code",
      "metadata": {
        "id": "05v3Mx5tAKFQ"
      },
      "source": [
        ""
      ],
      "execution_count": null,
      "outputs": []
    }
  ]
}